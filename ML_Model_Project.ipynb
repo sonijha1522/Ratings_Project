{
 "cells": [
  {
   "cell_type": "code",
   "execution_count": 93,
   "metadata": {},
   "outputs": [],
   "source": [
    "import pandas as pd\n",
    "import numpy as np"
   ]
  },
  {
   "cell_type": "code",
   "execution_count": 90,
   "metadata": {},
   "outputs": [
    {
     "data": {
      "text/html": [
       "<div>\n",
       "<style scoped>\n",
       "    .dataframe tbody tr th:only-of-type {\n",
       "        vertical-align: middle;\n",
       "    }\n",
       "\n",
       "    .dataframe tbody tr th {\n",
       "        vertical-align: top;\n",
       "    }\n",
       "\n",
       "    .dataframe thead th {\n",
       "        text-align: right;\n",
       "    }\n",
       "</style>\n",
       "<table border=\"1\" class=\"dataframe\">\n",
       "  <thead>\n",
       "    <tr style=\"text-align: right;\">\n",
       "      <th></th>\n",
       "      <th>beername</th>\n",
       "      <th>beerstyle</th>\n",
       "      <th>reviewoverall</th>\n",
       "      <th>reviewtext</th>\n",
       "    </tr>\n",
       "  </thead>\n",
       "  <tbody>\n",
       "    <tr>\n",
       "      <th>0</th>\n",
       "      <td>Chiostro</td>\n",
       "      <td>Herbed / Spiced Beer</td>\n",
       "      <td>4.0</td>\n",
       "      <td>Pours a clouded gold with a thin white head. N...</td>\n",
       "    </tr>\n",
       "    <tr>\n",
       "      <th>1</th>\n",
       "      <td>Bearded Pat's Barleywine</td>\n",
       "      <td>American Barleywine</td>\n",
       "      <td>3.5</td>\n",
       "      <td>12oz bottle into 8oz snifter.\\t\\tDeep ruby red...</td>\n",
       "    </tr>\n",
       "    <tr>\n",
       "      <th>2</th>\n",
       "      <td>Naughty Nellie's Ale</td>\n",
       "      <td>American Pale Ale (APA)</td>\n",
       "      <td>3.5</td>\n",
       "      <td>First enjoyed at the brewpub about 2 years ago...</td>\n",
       "    </tr>\n",
       "    <tr>\n",
       "      <th>3</th>\n",
       "      <td>Pilsner Urquell</td>\n",
       "      <td>Czech Pilsener</td>\n",
       "      <td>2.5</td>\n",
       "      <td>First thing I noticed after pouring from green...</td>\n",
       "    </tr>\n",
       "    <tr>\n",
       "      <th>4</th>\n",
       "      <td>Black Sheep Ale (Special)</td>\n",
       "      <td>English Pale Ale</td>\n",
       "      <td>3.0</td>\n",
       "      <td>A: pours an amber with a one finger head but o...</td>\n",
       "    </tr>\n",
       "    <tr>\n",
       "      <th>5</th>\n",
       "      <td>YouEnjoyMyStout</td>\n",
       "      <td>Russian Imperial Stout</td>\n",
       "      <td>4.0</td>\n",
       "      <td>served in a snifter; on-tap at CBC.\\t\\tcolor i...</td>\n",
       "    </tr>\n",
       "    <tr>\n",
       "      <th>6</th>\n",
       "      <td>Benevolence</td>\n",
       "      <td>American Wild Ale</td>\n",
       "      <td>4.0</td>\n",
       "      <td>my 100th review on-tap! mini snifter\\t\\t A nut...</td>\n",
       "    </tr>\n",
       "    <tr>\n",
       "      <th>7</th>\n",
       "      <td>Frog's Hollow Double Pumpkin Ale</td>\n",
       "      <td>Pumpkin Ale</td>\n",
       "      <td>4.0</td>\n",
       "      <td>One of the better pumpkin ales I've tried so f...</td>\n",
       "    </tr>\n",
       "    <tr>\n",
       "      <th>8</th>\n",
       "      <td>Stoudt's Barrel Aged Old Abominable</td>\n",
       "      <td>English Barleywine</td>\n",
       "      <td>4.5</td>\n",
       "      <td>A snifter filled (several times over) from a 7...</td>\n",
       "    </tr>\n",
       "    <tr>\n",
       "      <th>9</th>\n",
       "      <td>One Hop Wonder IPA</td>\n",
       "      <td>American IPA</td>\n",
       "      <td>2.0</td>\n",
       "      <td>Brewed with five hop additions, this alleged I...</td>\n",
       "    </tr>\n",
       "  </tbody>\n",
       "</table>\n",
       "</div>"
      ],
      "text/plain": [
       "                              beername                beerstyle  \\\n",
       "0                             Chiostro     Herbed / Spiced Beer   \n",
       "1             Bearded Pat's Barleywine      American Barleywine   \n",
       "2                 Naughty Nellie's Ale  American Pale Ale (APA)   \n",
       "3                      Pilsner Urquell           Czech Pilsener   \n",
       "4            Black Sheep Ale (Special)         English Pale Ale   \n",
       "5                      YouEnjoyMyStout   Russian Imperial Stout   \n",
       "6                          Benevolence        American Wild Ale   \n",
       "7     Frog's Hollow Double Pumpkin Ale              Pumpkin Ale   \n",
       "8  Stoudt's Barrel Aged Old Abominable       English Barleywine   \n",
       "9                   One Hop Wonder IPA             American IPA   \n",
       "\n",
       "   reviewoverall                                         reviewtext  \n",
       "0            4.0  Pours a clouded gold with a thin white head. N...  \n",
       "1            3.5  12oz bottle into 8oz snifter.\\t\\tDeep ruby red...  \n",
       "2            3.5  First enjoyed at the brewpub about 2 years ago...  \n",
       "3            2.5  First thing I noticed after pouring from green...  \n",
       "4            3.0  A: pours an amber with a one finger head but o...  \n",
       "5            4.0  served in a snifter; on-tap at CBC.\\t\\tcolor i...  \n",
       "6            4.0  my 100th review on-tap! mini snifter\\t\\t A nut...  \n",
       "7            4.0  One of the better pumpkin ales I've tried so f...  \n",
       "8            4.5  A snifter filled (several times over) from a 7...  \n",
       "9            2.0  Brewed with five hop additions, this alleged I...  "
      ]
     },
     "execution_count": 90,
     "metadata": {},
     "output_type": "execute_result"
    }
   ],
   "source": [
    "df = pd.read_csv('C:/Users/admin/Documents/data for csv file/Algoscale Interview------------------------------------/DS_Case_Study_beer-ratings_2020/DS_Case_Study_beer-ratings_2020/train1.csv', usecols = ['beername', 'beerstyle', 'reviewtext','reviewoverall'])\n",
    "df.head(10)"
   ]
  },
  {
   "cell_type": "code",
   "execution_count": null,
   "metadata": {},
   "outputs": [],
   "source": []
  },
  {
   "cell_type": "code",
   "execution_count": 3,
   "metadata": {},
   "outputs": [
    {
     "data": {
      "text/plain": [
       "4.0    13868\n",
       "4.5     8666\n",
       "3.5     6551\n",
       "3.0     3319\n",
       "5.0     2671\n",
       "2.5     1193\n",
       "2.0      807\n",
       "1.5      248\n",
       "1.0      176\n",
       "0.0        1\n",
       "Name: reviewoverall, dtype: int64"
      ]
     },
     "execution_count": 3,
     "metadata": {},
     "output_type": "execute_result"
    }
   ],
   "source": [
    "df.reviewoverall.value_counts()"
   ]
  },
  {
   "cell_type": "code",
   "execution_count": 4,
   "metadata": {},
   "outputs": [],
   "source": [
    "from sklearn.preprocessing import LabelEncoder\n",
    "le = LabelEncoder()"
   ]
  },
  {
   "cell_type": "code",
   "execution_count": 5,
   "metadata": {},
   "outputs": [],
   "source": [
    "y = df['reviewoverall'].values\n",
    "y = le.fit_transform(y)"
   ]
  },
  {
   "cell_type": "code",
   "execution_count": 6,
   "metadata": {},
   "outputs": [
    {
     "data": {
      "text/plain": [
       "array([7, 6, 6, 4, 5, 7, 7, 7, 8, 3, 8, 7, 9, 3, 7, 7, 5, 7, 7, 7, 7, 7,\n",
       "       9, 7, 7, 7, 8, 8, 7, 8, 6, 8, 6, 8, 7, 8, 5, 7, 6, 6, 8, 6, 8, 6,\n",
       "       8, 2, 4, 7, 6, 9, 7, 7, 7, 5, 7, 7, 8, 7, 8, 6, 6, 7, 7, 8, 7, 6,\n",
       "       8, 6, 7, 7, 7, 9, 7, 6, 8, 6, 7, 5, 7, 7, 8, 7, 7, 8, 8, 7, 9, 6,\n",
       "       7, 5, 7, 8, 7, 7, 6, 7, 7, 7, 6, 6, 7, 5, 7, 6, 7, 8, 8, 2, 7, 6,\n",
       "       8, 7, 7, 6, 7, 6, 9, 7, 1, 9, 7, 7, 8, 8, 6, 2, 6, 7, 3, 7, 9, 7,\n",
       "       7, 7, 8, 7, 6, 8, 6, 6, 7, 7, 7, 3, 6, 7, 6, 7, 8, 8, 6, 3, 7, 8,\n",
       "       8, 6, 7, 7, 7, 6, 7, 6, 6, 7, 4, 7, 8, 4, 4, 5, 8, 6, 6, 6, 8, 5,\n",
       "       6, 7, 8, 7, 8, 6, 6, 5, 7, 8, 9, 5, 6, 6, 7, 6, 6, 7, 9, 8, 7, 8,\n",
       "       5, 7, 3, 6, 7, 9, 7, 7, 8, 7, 5, 7, 6, 6, 6, 7, 8, 8, 5, 7, 8, 7,\n",
       "       6, 7, 7, 6, 8, 7, 7, 6, 6, 6, 7, 7, 5, 8, 8, 8, 7, 7, 8, 6, 6, 8,\n",
       "       6, 8, 8, 7, 7, 7, 6, 7], dtype=int64)"
      ]
     },
     "execution_count": 6,
     "metadata": {},
     "output_type": "execute_result"
    }
   ],
   "source": [
    "y[:250]"
   ]
  },
  {
   "cell_type": "code",
   "execution_count": 7,
   "metadata": {},
   "outputs": [],
   "source": [
    "import re\n",
    "from nltk.corpus import stopwords\n",
    "from nltk.stem import PorterStemmer"
   ]
  },
  {
   "cell_type": "code",
   "execution_count": 8,
   "metadata": {},
   "outputs": [
    {
     "data": {
      "text/plain": [
       "\"12oz bottle into 8oz snifter.\\t\\tDeep ruby red hue with a one finger light tan head that settles to a thin rim along the glass.\\t\\tSharp piercing hops with some light hard candy in the background. \\t\\tThe hops provide some bitterness, but they aren't as sharp as I would have expected. Mostly a light candy flavor like in the aroma. Full bodied with good carbonation. The finish is some lingering sweet flavor with a bit of bitterness.\\t\\tA very sweet barleywine with a weird hard candy flavor that seemed to dominate. Not bad, but I would have liked a little more complexity.\""
      ]
     },
     "execution_count": 8,
     "metadata": {},
     "output_type": "execute_result"
    }
   ],
   "source": [
    "df['reviewtext'][1]"
   ]
  },
  {
   "cell_type": "code",
   "execution_count": 69,
   "metadata": {},
   "outputs": [
    {
     "data": {
      "text/html": [
       "<div>\n",
       "<style scoped>\n",
       "    .dataframe tbody tr th:only-of-type {\n",
       "        vertical-align: middle;\n",
       "    }\n",
       "\n",
       "    .dataframe tbody tr th {\n",
       "        vertical-align: top;\n",
       "    }\n",
       "\n",
       "    .dataframe thead th {\n",
       "        text-align: right;\n",
       "    }\n",
       "</style>\n",
       "<table border=\"1\" class=\"dataframe\">\n",
       "  <thead>\n",
       "    <tr style=\"text-align: right;\">\n",
       "      <th></th>\n",
       "      <th>beername</th>\n",
       "      <th>beerstyle</th>\n",
       "      <th>reviewtext</th>\n",
       "    </tr>\n",
       "  </thead>\n",
       "  <tbody>\n",
       "    <tr>\n",
       "      <th>0</th>\n",
       "      <td>Chiostro</td>\n",
       "      <td>Herbed / Spiced Beer</td>\n",
       "      <td>Pours a clouded gold with a thin white head. N...</td>\n",
       "    </tr>\n",
       "    <tr>\n",
       "      <th>1</th>\n",
       "      <td>Bearded Pat's Barleywine</td>\n",
       "      <td>American Barleywine</td>\n",
       "      <td>12oz bottle into 8oz snifter.\\t\\tDeep ruby red...</td>\n",
       "    </tr>\n",
       "    <tr>\n",
       "      <th>2</th>\n",
       "      <td>Naughty Nellie's Ale</td>\n",
       "      <td>American Pale Ale (APA)</td>\n",
       "      <td>First enjoyed at the brewpub about 2 years ago...</td>\n",
       "    </tr>\n",
       "    <tr>\n",
       "      <th>3</th>\n",
       "      <td>Pilsner Urquell</td>\n",
       "      <td>Czech Pilsener</td>\n",
       "      <td>First thing I noticed after pouring from green...</td>\n",
       "    </tr>\n",
       "    <tr>\n",
       "      <th>4</th>\n",
       "      <td>Black Sheep Ale (Special)</td>\n",
       "      <td>English Pale Ale</td>\n",
       "      <td>A: pours an amber with a one finger head but o...</td>\n",
       "    </tr>\n",
       "  </tbody>\n",
       "</table>\n",
       "</div>"
      ],
      "text/plain": [
       "                    beername                beerstyle  \\\n",
       "0                   Chiostro     Herbed / Spiced Beer   \n",
       "1   Bearded Pat's Barleywine      American Barleywine   \n",
       "2       Naughty Nellie's Ale  American Pale Ale (APA)   \n",
       "3            Pilsner Urquell           Czech Pilsener   \n",
       "4  Black Sheep Ale (Special)         English Pale Ale   \n",
       "\n",
       "                                          reviewtext  \n",
       "0  Pours a clouded gold with a thin white head. N...  \n",
       "1  12oz bottle into 8oz snifter.\\t\\tDeep ruby red...  \n",
       "2  First enjoyed at the brewpub about 2 years ago...  \n",
       "3  First thing I noticed after pouring from green...  \n",
       "4  A: pours an amber with a one finger head but o...  "
      ]
     },
     "execution_count": 69,
     "metadata": {},
     "output_type": "execute_result"
    }
   ],
   "source": [
    "df_copy=df.copy()\n",
    "df_copy.head()\n",
    "data = df_copy.drop('reviewoverall',axis = 'columns').astype(str)\n",
    "data.head()"
   ]
  },
  {
   "cell_type": "code",
   "execution_count": 10,
   "metadata": {},
   "outputs": [],
   "source": [
    "sw = set(stopwords.words('english'))\n",
    "ps = PorterStemmer()\n"
   ]
  },
  {
   "cell_type": "code",
   "execution_count": 11,
   "metadata": {},
   "outputs": [],
   "source": [
    "def clean_text(sample):\n",
    "    sample = sample.lower()\n",
    "    sample.replace(\" \\t\\t\", '')\n",
    "    sample = re.sub('\\[.*?\\]','',sample)\n",
    "    re.sub(r\"\\s+[a-zA-Z]\\s+\", \" \", sample)\n",
    "    sample = re.sub('\\[.*?\\]','',sample)\n",
    "    sample = re.sub(r\"[,@\\'?\\:\\-\\.$%_]\", \"\", sample, flags=re.I)\n",
    "    sample = re.sub('[''\"\"_]','',sample)\n",
    "    sample = re.sub(r\"\\s+\",\" \", sample, flags = re.I)\n",
    "    sample = re.sub('\\w*\\d\\w*','',sample)\n",
    "    sample = sample.split()\n",
    "    sample = [ps.stem(s) for s in sample if s not in sw]  #list compherensive\n",
    "    sample = \" \".join(sample)\n",
    "    return sample\n",
    "cleaned1 = lambda x:clean_text(x)"
   ]
  },
  {
   "cell_type": "code",
   "execution_count": 12,
   "metadata": {},
   "outputs": [
    {
     "data": {
      "text/plain": [
       "'bottl snifter deep rubi red hue one finger light tan head settl thin rim along glass sharp pierc hop light hard candi background hop provid bitter arent sharp would expect mostli light candi flavor like aroma full bodi good carbon finish linger sweet flavor bit bitter sweet barleywin weird hard candi flavor seem domin bad would like littl complex'"
      ]
     },
     "execution_count": 12,
     "metadata": {},
     "output_type": "execute_result"
    }
   ],
   "source": [
    "clean_text(data['reviewtext'][1])"
   ]
  },
  {
   "cell_type": "code",
   "execution_count": 13,
   "metadata": {},
   "outputs": [
    {
     "data": {
      "text/plain": [
       "\"12oz bottle into 8oz snifter.\\t\\tDeep ruby red hue with a one finger light tan head that settles to a thin rim along the glass.\\t\\tSharp piercing hops with some light hard candy in the background. \\t\\tThe hops provide some bitterness, but they aren't as sharp as I would have expected. Mostly a light candy flavor like in the aroma. Full bodied with good carbonation. The finish is some lingering sweet flavor with a bit of bitterness.\\t\\tA very sweet barleywine with a weird hard candy flavor that seemed to dominate. Not bad, but I would have liked a little more complexity.\""
      ]
     },
     "execution_count": 13,
     "metadata": {},
     "output_type": "execute_result"
    }
   ],
   "source": [
    "data['reviewtext'][1]"
   ]
  },
  {
   "cell_type": "code",
   "execution_count": 71,
   "metadata": {},
   "outputs": [
    {
     "data": {
      "text/html": [
       "<div>\n",
       "<style scoped>\n",
       "    .dataframe tbody tr th:only-of-type {\n",
       "        vertical-align: middle;\n",
       "    }\n",
       "\n",
       "    .dataframe tbody tr th {\n",
       "        vertical-align: top;\n",
       "    }\n",
       "\n",
       "    .dataframe thead th {\n",
       "        text-align: right;\n",
       "    }\n",
       "</style>\n",
       "<table border=\"1\" class=\"dataframe\">\n",
       "  <thead>\n",
       "    <tr style=\"text-align: right;\">\n",
       "      <th></th>\n",
       "      <th>beername</th>\n",
       "      <th>beerstyle</th>\n",
       "      <th>reviewoverall</th>\n",
       "      <th>reviewtext</th>\n",
       "    </tr>\n",
       "  </thead>\n",
       "  <tbody>\n",
       "    <tr>\n",
       "      <th>0</th>\n",
       "      <td>Chiostro</td>\n",
       "      <td>Herbed / Spiced Beer</td>\n",
       "      <td>4.0</td>\n",
       "      <td>Pours a clouded gold with a thin white head. N...</td>\n",
       "    </tr>\n",
       "    <tr>\n",
       "      <th>1</th>\n",
       "      <td>Bearded Pat's Barleywine</td>\n",
       "      <td>American Barleywine</td>\n",
       "      <td>3.5</td>\n",
       "      <td>12oz bottle into 8oz snifter.\\t\\tDeep ruby red...</td>\n",
       "    </tr>\n",
       "    <tr>\n",
       "      <th>2</th>\n",
       "      <td>Naughty Nellie's Ale</td>\n",
       "      <td>American Pale Ale (APA)</td>\n",
       "      <td>3.5</td>\n",
       "      <td>First enjoyed at the brewpub about 2 years ago...</td>\n",
       "    </tr>\n",
       "    <tr>\n",
       "      <th>3</th>\n",
       "      <td>Pilsner Urquell</td>\n",
       "      <td>Czech Pilsener</td>\n",
       "      <td>2.5</td>\n",
       "      <td>First thing I noticed after pouring from green...</td>\n",
       "    </tr>\n",
       "    <tr>\n",
       "      <th>4</th>\n",
       "      <td>Black Sheep Ale (Special)</td>\n",
       "      <td>English Pale Ale</td>\n",
       "      <td>3.0</td>\n",
       "      <td>A: pours an amber with a one finger head but o...</td>\n",
       "    </tr>\n",
       "  </tbody>\n",
       "</table>\n",
       "</div>"
      ],
      "text/plain": [
       "                    beername                beerstyle  reviewoverall  \\\n",
       "0                   Chiostro     Herbed / Spiced Beer            4.0   \n",
       "1   Bearded Pat's Barleywine      American Barleywine            3.5   \n",
       "2       Naughty Nellie's Ale  American Pale Ale (APA)            3.5   \n",
       "3            Pilsner Urquell           Czech Pilsener            2.5   \n",
       "4  Black Sheep Ale (Special)         English Pale Ale            3.0   \n",
       "\n",
       "                                          reviewtext  \n",
       "0  Pours a clouded gold with a thin white head. N...  \n",
       "1  12oz bottle into 8oz snifter.\\t\\tDeep ruby red...  \n",
       "2  First enjoyed at the brewpub about 2 years ago...  \n",
       "3  First thing I noticed after pouring from green...  \n",
       "4  A: pours an amber with a one finger head but o...  "
      ]
     },
     "execution_count": 71,
     "metadata": {},
     "output_type": "execute_result"
    }
   ],
   "source": [
    "data['cleaned_reviewtext'] = data['reviewtext'].apply(cleaned1)\n",
    "df.head()\n"
   ]
  },
  {
   "cell_type": "code",
   "execution_count": 76,
   "metadata": {},
   "outputs": [],
   "source": [
    "corpus = data['cleaned_reviewtext'].values"
   ]
  },
  {
   "cell_type": "code",
   "execution_count": 17,
   "metadata": {},
   "outputs": [],
   "source": [
    "from sklearn.svm import SVC\n",
    "classifier = SVC(kernel = 'linear', random_state = 0)\n",
    "classifier.fit = (X_train, y_train)\n",
    "\n",
    "y_pred = classifier.predict(X_test)"
   ]
  },
  {
   "cell_type": "code",
   "execution_count": 18,
   "metadata": {},
   "outputs": [],
   "source": [
    "X = cv.fit_transform(corpus)"
   ]
  },
  {
   "cell_type": "code",
   "execution_count": 87,
   "metadata": {},
   "outputs": [
    {
     "name": "stdout",
     "output_type": "stream",
     "text": [
      "pour cloud gold thin white head nose quit floral larger amount spice ad definit spice forward fragranc flavor odd burn hit first sip fade seem like dirti vanilla aftertast perhap absinth regardless get quit spice tone tongu almost feel littl heat think inexperienc palat spice contribut ignor precis overal nice drinker inde\n"
     ]
    }
   ],
   "source": [
    "print(X[0])"
   ]
  },
  {
   "cell_type": "code",
   "execution_count": 20,
   "metadata": {},
   "outputs": [],
   "source": [
    "tfidf = TfidfTransformer()\n",
    "x = tfidf.fit_transform(X)"
   ]
  },
  {
   "cell_type": "code",
   "execution_count": 21,
   "metadata": {},
   "outputs": [
    {
     "name": "stdout",
     "output_type": "stream",
     "text": [
      "  (0, 44048)\t0.07113370451080492\n",
      "  (0, 42646)\t0.09105993249596721\n",
      "  (0, 40775)\t0.10094503043456175\n",
      "  (0, 40762)\t0.12702701032304642\n",
      "  (0, 40086)\t0.09110897664320079\n",
      "  (0, 40059)\t0.07639667606830279\n",
      "  (0, 36920)\t0.4135793712961499\n",
      "  (0, 35510)\t0.09740851148170564\n",
      "  (0, 34568)\t0.09440045444632428\n",
      "  (0, 32544)\t0.18957002486031033\n",
      "  (0, 31843)\t0.15735800196621505\n",
      "  (0, 30931)\t0.22318672627283204\n",
      "  (0, 29770)\t0.12320825351053336\n",
      "  (0, 29193)\t0.09494958467224693\n",
      "  (0, 28815)\t0.07649251949072745\n",
      "  (0, 27749)\t0.14850454276510153\n",
      "  (0, 27150)\t0.07096853048347153\n",
      "  (0, 26683)\t0.05154852406365929\n",
      "  (0, 22958)\t0.06355930658129157\n",
      "  (0, 22728)\t0.054747719660685264\n",
      "  (0, 22107)\t0.19248737206558467\n",
      "  (0, 20237)\t0.2744430716545704\n",
      "  (0, 20163)\t0.16421847685183008\n",
      "  (0, 19833)\t0.2176714553583666\n",
      "  (0, 18893)\t0.11176932455343006\n",
      "  (0, 18364)\t0.13484149441259619\n",
      "  (0, 16973)\t0.11452785956481122\n",
      "  (0, 16609)\t0.07726694408321626\n",
      "  (0, 15706)\t0.20365671149278855\n",
      "  (0, 15620)\t0.13072135279992397\n",
      "  (0, 15283)\t0.09801122655898599\n",
      "  (0, 15063)\t0.049846047315576555\n",
      "  (0, 14903)\t0.08325864156574114\n",
      "  (0, 14515)\t0.08190643829780798\n",
      "  (0, 14215)\t0.1019160102661079\n",
      "  (0, 12413)\t0.1436738371886665\n",
      "  (0, 11585)\t0.14829027667190375\n",
      "  (0, 10943)\t0.08923056874242465\n",
      "  (0, 9442)\t0.1709792922396689\n",
      "  (0, 8482)\t0.17426809852260913\n",
      "  (0, 6187)\t0.12606511528129094\n",
      "  (0, 1409)\t0.09651095045083052\n",
      "  (0, 1120)\t0.0806645307118488\n",
      "  (0, 546)\t0.09032751247252074\n",
      "  (0, 335)\t0.14141159724080377\n",
      "  (0, 130)\t0.2795801374881643\n"
     ]
    }
   ],
   "source": [
    "print(x[0])"
   ]
  },
  {
   "cell_type": "code",
   "execution_count": 22,
   "metadata": {},
   "outputs": [
    {
     "data": {
      "text/plain": [
       "(37500, 45269)"
      ]
     },
     "execution_count": 22,
     "metadata": {},
     "output_type": "execute_result"
    }
   ],
   "source": [
    "x.shape"
   ]
  },
  {
   "cell_type": "code",
   "execution_count": 23,
   "metadata": {},
   "outputs": [
    {
     "data": {
      "text/plain": [
       "(37500,)"
      ]
     },
     "execution_count": 23,
     "metadata": {},
     "output_type": "execute_result"
    }
   ],
   "source": [
    "y.shape"
   ]
  },
  {
   "cell_type": "code",
   "execution_count": 24,
   "metadata": {},
   "outputs": [],
   "source": [
    "from sklearn.model_selection import train_test_split\n",
    "from sklearn import preprocessing\n",
    "from sklearn.feature_extraction.text import TfidfVectorizer\n",
    "from sklearn.svm import LinearSVC\n",
    "from sklearn.linear_model import LinearRegression\n",
    "from sklearn.linear_model import LogisticRegression\n",
    "from sklearn.svm import SVR\n",
    "from sklearn.ensemble import RandomForestClassifier"
   ]
  },
  {
   "cell_type": "code",
   "execution_count": 25,
   "metadata": {},
   "outputs": [],
   "source": [
    "x_train, x_test, y_train, y_test = train_test_split(x,y, test_size=0.1,random_state =0)"
   ]
  },
  {
   "cell_type": "code",
   "execution_count": 26,
   "metadata": {},
   "outputs": [
    {
     "data": {
      "text/plain": [
       "(33750,)"
      ]
     },
     "execution_count": 26,
     "metadata": {},
     "output_type": "execute_result"
    }
   ],
   "source": [
    "y_train.shape"
   ]
  },
  {
   "cell_type": "code",
   "execution_count": 27,
   "metadata": {},
   "outputs": [
    {
     "data": {
      "text/plain": [
       "(3750,)"
      ]
     },
     "execution_count": 27,
     "metadata": {},
     "output_type": "execute_result"
    }
   ],
   "source": [
    "y_test.shape"
   ]
  },
  {
   "cell_type": "code",
   "execution_count": 29,
   "metadata": {},
   "outputs": [],
   "source": [
    "from sklearn.svm import LinearSVC\n",
    "clf = LinearSVC()"
   ]
  },
  {
   "cell_type": "code",
   "execution_count": 30,
   "metadata": {},
   "outputs": [
    {
     "data": {
      "text/plain": [
       "LinearSVC()"
      ]
     },
     "execution_count": 30,
     "metadata": {},
     "output_type": "execute_result"
    }
   ],
   "source": [
    "clf.fit(x_train, y_train)"
   ]
  },
  {
   "cell_type": "code",
   "execution_count": 94,
   "metadata": {},
   "outputs": [],
   "source": [
    "y_pred = clf.predict(x_test)\n"
   ]
  },
  {
   "cell_type": "code",
   "execution_count": 95,
   "metadata": {},
   "outputs": [
    {
     "data": {
      "text/plain": [
       "7"
      ]
     },
     "execution_count": 95,
     "metadata": {},
     "output_type": "execute_result"
    }
   ],
   "source": [
    "y_pred[2]"
   ]
  },
  {
   "cell_type": "code",
   "execution_count": 32,
   "metadata": {},
   "outputs": [],
   "source": [
    "from sklearn.metrics import accuracy_score"
   ]
  },
  {
   "cell_type": "code",
   "execution_count": 33,
   "metadata": {},
   "outputs": [
    {
     "name": "stdout",
     "output_type": "stream",
     "text": [
      "Accuracy: 0.384\n"
     ]
    }
   ],
   "source": [
    "acc = accuracy_score(y_test, y_pred)\n",
    "print('Accuracy: %.3f' % acc)"
   ]
  },
  {
   "cell_type": "code",
   "execution_count": 34,
   "metadata": {},
   "outputs": [
    {
     "data": {
      "text/plain": [
       "0.38426666666666665"
      ]
     },
     "execution_count": 34,
     "metadata": {},
     "output_type": "execute_result"
    }
   ],
   "source": [
    "clf.score(x_test, y_test)"
   ]
  },
  {
   "cell_type": "code",
   "execution_count": 36,
   "metadata": {},
   "outputs": [],
   "source": [
    "from sklearn.metrics import classification_report"
   ]
  },
  {
   "cell_type": "code",
   "execution_count": 37,
   "metadata": {},
   "outputs": [
    {
     "name": "stdout",
     "output_type": "stream",
     "text": [
      "              precision    recall  f1-score   support\n",
      "\n",
      "           1       0.86      0.25      0.39        24\n",
      "           2       0.00      0.00      0.00        21\n",
      "           3       0.32      0.14      0.20        85\n",
      "           4       0.17      0.06      0.09       116\n",
      "           5       0.23      0.19      0.20       310\n",
      "           6       0.28      0.18      0.22       711\n",
      "           7       0.43      0.65      0.52      1322\n",
      "           8       0.40      0.37      0.39       883\n",
      "           9       0.30      0.14      0.19       278\n",
      "\n",
      "    accuracy                           0.38      3750\n",
      "   macro avg       0.33      0.22      0.24      3750\n",
      "weighted avg       0.36      0.38      0.36      3750\n",
      "\n"
     ]
    }
   ],
   "source": [
    "print(classification_report(y_test,y_pred))"
   ]
  },
  {
   "cell_type": "code",
   "execution_count": 52,
   "metadata": {},
   "outputs": [
    {
     "data": {
      "text/plain": [
       "0.3406410441438287"
      ]
     },
     "execution_count": 52,
     "metadata": {},
     "output_type": "execute_result"
    }
   ],
   "source": [
    "from sklearn.ensemble import GradientBoostingRegressor\n",
    "model1 = GradientBoostingRegressor(random_state=0).fit(x_train, y_train)\n",
    "model1.score(x_train, y_train)"
   ]
  },
  {
   "cell_type": "code",
   "execution_count": 85,
   "metadata": {},
   "outputs": [
    {
     "name": "stdout",
     "output_type": "stream",
     "text": [
      "7 8\n"
     ]
    }
   ],
   "source": [
    "print(y_test[0], y_pred[0])"
   ]
  },
  {
   "cell_type": "code",
   "execution_count": 84,
   "metadata": {},
   "outputs": [
    {
     "name": "stdout",
     "output_type": "stream",
     "text": [
      "7 8\n",
      "7 6\n",
      "6 7\n",
      "8 8\n",
      "7 7\n",
      "8 7\n",
      "7 8\n",
      "7 7\n",
      "7 7\n",
      "7 7\n"
     ]
    }
   ],
   "source": [
    "for i in range(10):\n",
    " print(y_test[i], y_pred[i])"
   ]
  }
 ],
 "metadata": {
  "kernelspec": {
   "display_name": "Python 3",
   "language": "python",
   "name": "python3"
  },
  "language_info": {
   "codemirror_mode": {
    "name": "ipython",
    "version": 3
   },
   "file_extension": ".py",
   "mimetype": "text/x-python",
   "name": "python",
   "nbconvert_exporter": "python",
   "pygments_lexer": "ipython3",
   "version": "3.8.5"
  }
 },
 "nbformat": 4,
 "nbformat_minor": 4
}
